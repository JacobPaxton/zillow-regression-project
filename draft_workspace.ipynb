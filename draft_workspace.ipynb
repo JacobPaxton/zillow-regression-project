{
 "cells": [
  {
   "cell_type": "code",
   "execution_count": 1,
   "id": "33d2077e",
   "metadata": {},
   "outputs": [],
   "source": [
    "import numpy as np\n",
    "import pandas as pd\n",
    "import os\n",
    "\n",
    "import acquire"
   ]
  },
  {
   "cell_type": "markdown",
   "id": "651d372e",
   "metadata": {},
   "source": [
    "\n",
    "# #1. Acquire the correct data subset from the 'zillow' dataset"
   ]
  },
  {
   "cell_type": "markdown",
   "id": "8b554743",
   "metadata": {},
   "source": [
    "## Import"
   ]
  },
  {
   "cell_type": "code",
   "execution_count": 2,
   "id": "1caa2c90",
   "metadata": {},
   "outputs": [],
   "source": [
    "from env import host, username, password\n",
    "def get_db_url(db_name, username=username, hostname=host, password=password):\n",
    "    return f'mysql+pymysql://{username}:{password}@{hostname}/{db_name}'"
   ]
  },
  {
   "cell_type": "markdown",
   "id": "83a6fcce",
   "metadata": {},
   "source": [
    "## Acquire"
   ]
  },
  {
   "cell_type": "code",
   "execution_count": 3,
   "id": "9138e892",
   "metadata": {},
   "outputs": [],
   "source": [
    "url = get_db_url(db_name='zillow')\n",
    "query = \"\"\"\n",
    "            SELECT parcelid as ID,\n",
    "                    transactiondate as DateSold,\n",
    "                    taxvaluedollarcnt as Worth,\n",
    "                    roomcnt as Rooms,\n",
    "                    bathroomcnt as Baths,\n",
    "                    bedroomcnt as Beds,\n",
    "                    garagecarcnt as GarageCarCount,\n",
    "                    numberofstories as Stories,\n",
    "                    lotsizesquarefeet as LotSize,\n",
    "                    garagetotalsqft as GarageSize,\n",
    "                    calculatedfinishedsquarefeet as FinishedSize,\n",
    "                    yearbuilt as YearBuilt,\n",
    "                    fips as LocalityCode,\n",
    "                    regionidcounty as County,\n",
    "                    regionidzip as Zipcode,\n",
    "                    propertycountylandusecode as UseCode\n",
    "            FROM properties_2017\n",
    "            JOIN predictions_2017 USING(parcelid)\n",
    "            WHERE propertylandusetypeid = 261 AND \n",
    "                  transactiondate BETWEEN '2017-05-01' AND '2017-08-31'\n",
    "        \"\"\""
   ]
  },
  {
   "cell_type": "code",
   "execution_count": 4,
   "id": "0d80e037",
   "metadata": {},
   "outputs": [
    {
     "data": {
      "text/html": [
       "<div>\n",
       "<style scoped>\n",
       "    .dataframe tbody tr th:only-of-type {\n",
       "        vertical-align: middle;\n",
       "    }\n",
       "\n",
       "    .dataframe tbody tr th {\n",
       "        vertical-align: top;\n",
       "    }\n",
       "\n",
       "    .dataframe thead th {\n",
       "        text-align: right;\n",
       "    }\n",
       "</style>\n",
       "<table border=\"1\" class=\"dataframe\">\n",
       "  <thead>\n",
       "    <tr style=\"text-align: right;\">\n",
       "      <th></th>\n",
       "      <th>ID</th>\n",
       "      <th>DateSold</th>\n",
       "      <th>Worth</th>\n",
       "      <th>Rooms</th>\n",
       "      <th>Baths</th>\n",
       "      <th>Beds</th>\n",
       "      <th>GarageCarCount</th>\n",
       "      <th>Stories</th>\n",
       "      <th>LotSize</th>\n",
       "      <th>GarageSize</th>\n",
       "      <th>FinishedSize</th>\n",
       "      <th>YearBuilt</th>\n",
       "      <th>LocalityCode</th>\n",
       "      <th>County</th>\n",
       "      <th>Zipcode</th>\n",
       "      <th>UseCode</th>\n",
       "    </tr>\n",
       "  </thead>\n",
       "  <tbody>\n",
       "    <tr>\n",
       "      <th>0</th>\n",
       "      <td>11721753</td>\n",
       "      <td>2017-07-21</td>\n",
       "      <td>205123.0</td>\n",
       "      <td>0.0</td>\n",
       "      <td>2.0</td>\n",
       "      <td>3.0</td>\n",
       "      <td>NaN</td>\n",
       "      <td>NaN</td>\n",
       "      <td>5672.0</td>\n",
       "      <td>NaN</td>\n",
       "      <td>1316.0</td>\n",
       "      <td>1923.0</td>\n",
       "      <td>6037.0</td>\n",
       "      <td>3101.0</td>\n",
       "      <td>95997.0</td>\n",
       "      <td>0100</td>\n",
       "    </tr>\n",
       "    <tr>\n",
       "      <th>1</th>\n",
       "      <td>11289917</td>\n",
       "      <td>2017-06-23</td>\n",
       "      <td>136104.0</td>\n",
       "      <td>0.0</td>\n",
       "      <td>2.0</td>\n",
       "      <td>3.0</td>\n",
       "      <td>NaN</td>\n",
       "      <td>NaN</td>\n",
       "      <td>8284.0</td>\n",
       "      <td>NaN</td>\n",
       "      <td>1458.0</td>\n",
       "      <td>1970.0</td>\n",
       "      <td>6037.0</td>\n",
       "      <td>3101.0</td>\n",
       "      <td>97318.0</td>\n",
       "      <td>0101</td>\n",
       "    </tr>\n",
       "    <tr>\n",
       "      <th>2</th>\n",
       "      <td>11705026</td>\n",
       "      <td>2017-06-30</td>\n",
       "      <td>35606.0</td>\n",
       "      <td>0.0</td>\n",
       "      <td>1.0</td>\n",
       "      <td>2.0</td>\n",
       "      <td>NaN</td>\n",
       "      <td>NaN</td>\n",
       "      <td>6707.0</td>\n",
       "      <td>NaN</td>\n",
       "      <td>1421.0</td>\n",
       "      <td>1911.0</td>\n",
       "      <td>6037.0</td>\n",
       "      <td>3101.0</td>\n",
       "      <td>96018.0</td>\n",
       "      <td>0100</td>\n",
       "    </tr>\n",
       "  </tbody>\n",
       "</table>\n",
       "</div>"
      ],
      "text/plain": [
       "         ID    DateSold     Worth  Rooms  Baths  Beds  GarageCarCount  \\\n",
       "0  11721753  2017-07-21  205123.0    0.0    2.0   3.0             NaN   \n",
       "1  11289917  2017-06-23  136104.0    0.0    2.0   3.0             NaN   \n",
       "2  11705026  2017-06-30   35606.0    0.0    1.0   2.0             NaN   \n",
       "\n",
       "   Stories  LotSize  GarageSize  FinishedSize  YearBuilt  LocalityCode  \\\n",
       "0      NaN   5672.0         NaN        1316.0     1923.0        6037.0   \n",
       "1      NaN   8284.0         NaN        1458.0     1970.0        6037.0   \n",
       "2      NaN   6707.0         NaN        1421.0     1911.0        6037.0   \n",
       "\n",
       "   County  Zipcode UseCode  \n",
       "0  3101.0  95997.0    0100  \n",
       "1  3101.0  97318.0    0101  \n",
       "2  3101.0  96018.0    0100  "
      ]
     },
     "execution_count": 4,
     "metadata": {},
     "output_type": "execute_result"
    }
   ],
   "source": [
    "df = pd.read_sql(query, url)\n",
    "df.head(3)"
   ]
  },
  {
   "cell_type": "markdown",
   "id": "5b86fc38",
   "metadata": {},
   "source": [
    "## Store to .csv"
   ]
  },
  {
   "cell_type": "code",
   "execution_count": 5,
   "id": "457f89e7",
   "metadata": {},
   "outputs": [],
   "source": [
    "if not os.path.isfile('zillow.csv'):\n",
    "    df.to_csv('zillow.csv')"
   ]
  },
  {
   "cell_type": "markdown",
   "id": "46b0791b",
   "metadata": {},
   "source": [
    "* **ACQUIRE.py**: \n",
    "    * Add get_db_url - *Done*\n",
    "    * Add acquire-store function - *Done*"
   ]
  },
  {
   "cell_type": "code",
   "execution_count": 6,
   "id": "109369ad",
   "metadata": {},
   "outputs": [
    {
     "data": {
      "text/html": [
       "<div>\n",
       "<style scoped>\n",
       "    .dataframe tbody tr th:only-of-type {\n",
       "        vertical-align: middle;\n",
       "    }\n",
       "\n",
       "    .dataframe tbody tr th {\n",
       "        vertical-align: top;\n",
       "    }\n",
       "\n",
       "    .dataframe thead th {\n",
       "        text-align: right;\n",
       "    }\n",
       "</style>\n",
       "<table border=\"1\" class=\"dataframe\">\n",
       "  <thead>\n",
       "    <tr style=\"text-align: right;\">\n",
       "      <th></th>\n",
       "      <th>ID</th>\n",
       "      <th>DateSold</th>\n",
       "      <th>Worth</th>\n",
       "      <th>Rooms</th>\n",
       "      <th>Baths</th>\n",
       "      <th>Beds</th>\n",
       "      <th>GarageCarCount</th>\n",
       "      <th>Stories</th>\n",
       "      <th>LotSize</th>\n",
       "      <th>GarageSize</th>\n",
       "      <th>FinishedSize</th>\n",
       "      <th>YearBuilt</th>\n",
       "      <th>LocalityCode</th>\n",
       "      <th>County</th>\n",
       "      <th>Zipcode</th>\n",
       "      <th>UseCode</th>\n",
       "    </tr>\n",
       "  </thead>\n",
       "  <tbody>\n",
       "    <tr>\n",
       "      <th>0</th>\n",
       "      <td>11721753</td>\n",
       "      <td>2017-07-21</td>\n",
       "      <td>205123.0</td>\n",
       "      <td>0.0</td>\n",
       "      <td>2.0</td>\n",
       "      <td>3.0</td>\n",
       "      <td>NaN</td>\n",
       "      <td>NaN</td>\n",
       "      <td>5672.0</td>\n",
       "      <td>NaN</td>\n",
       "      <td>1316.0</td>\n",
       "      <td>1923.0</td>\n",
       "      <td>6037.0</td>\n",
       "      <td>3101.0</td>\n",
       "      <td>95997.0</td>\n",
       "      <td>0100</td>\n",
       "    </tr>\n",
       "    <tr>\n",
       "      <th>1</th>\n",
       "      <td>11289917</td>\n",
       "      <td>2017-06-23</td>\n",
       "      <td>136104.0</td>\n",
       "      <td>0.0</td>\n",
       "      <td>2.0</td>\n",
       "      <td>3.0</td>\n",
       "      <td>NaN</td>\n",
       "      <td>NaN</td>\n",
       "      <td>8284.0</td>\n",
       "      <td>NaN</td>\n",
       "      <td>1458.0</td>\n",
       "      <td>1970.0</td>\n",
       "      <td>6037.0</td>\n",
       "      <td>3101.0</td>\n",
       "      <td>97318.0</td>\n",
       "      <td>0101</td>\n",
       "    </tr>\n",
       "    <tr>\n",
       "      <th>2</th>\n",
       "      <td>11705026</td>\n",
       "      <td>2017-06-30</td>\n",
       "      <td>35606.0</td>\n",
       "      <td>0.0</td>\n",
       "      <td>1.0</td>\n",
       "      <td>2.0</td>\n",
       "      <td>NaN</td>\n",
       "      <td>NaN</td>\n",
       "      <td>6707.0</td>\n",
       "      <td>NaN</td>\n",
       "      <td>1421.0</td>\n",
       "      <td>1911.0</td>\n",
       "      <td>6037.0</td>\n",
       "      <td>3101.0</td>\n",
       "      <td>96018.0</td>\n",
       "      <td>0100</td>\n",
       "    </tr>\n",
       "  </tbody>\n",
       "</table>\n",
       "</div>"
      ],
      "text/plain": [
       "         ID    DateSold     Worth  Rooms  Baths  Beds  GarageCarCount  \\\n",
       "0  11721753  2017-07-21  205123.0    0.0    2.0   3.0             NaN   \n",
       "1  11289917  2017-06-23  136104.0    0.0    2.0   3.0             NaN   \n",
       "2  11705026  2017-06-30   35606.0    0.0    1.0   2.0             NaN   \n",
       "\n",
       "   Stories  LotSize  GarageSize  FinishedSize  YearBuilt  LocalityCode  \\\n",
       "0      NaN   5672.0         NaN        1316.0     1923.0        6037.0   \n",
       "1      NaN   8284.0         NaN        1458.0     1970.0        6037.0   \n",
       "2      NaN   6707.0         NaN        1421.0     1911.0        6037.0   \n",
       "\n",
       "   County  Zipcode UseCode  \n",
       "0  3101.0  95997.0    0100  \n",
       "1  3101.0  97318.0    0101  \n",
       "2  3101.0  96018.0    0100  "
      ]
     },
     "execution_count": 6,
     "metadata": {},
     "output_type": "execute_result"
    }
   ],
   "source": [
    "df = acquire.acquire_zillow()\n",
    "df.head(3)"
   ]
  },
  {
   "cell_type": "markdown",
   "id": "18326633",
   "metadata": {},
   "source": [
    "* **Present**:\n",
    "    * Acquisition steps and data subsecting"
   ]
  },
  {
   "cell_type": "markdown",
   "id": "e95dd895",
   "metadata": {},
   "source": [
    "# #2. Create a distribution for residence locality (state, county) against tax rate"
   ]
  },
  {
   "cell_type": "markdown",
   "id": "0dae0667",
   "metadata": {},
   "source": [
    "* Notebook: Explore data for locality information\n",
    "    * **Deliverable**: List of states and counties where properties are located"
   ]
  },
  {
   "cell_type": "markdown",
   "id": "c84333fb",
   "metadata": {},
   "source": [
    "## Investigate locality information"
   ]
  },
  {
   "cell_type": "code",
   "execution_count": 7,
   "id": "a4e52ffc",
   "metadata": {},
   "outputs": [
    {
     "data": {
      "text/plain": [
       "County  LocalityCode\n",
       "3101.0  6037.0          17906\n",
       "1286.0  6059.0           7769\n",
       "2061.0  6111.0           2449\n",
       "dtype: int64"
      ]
     },
     "execution_count": 7,
     "metadata": {},
     "output_type": "execute_result"
    }
   ],
   "source": [
    "df[['County','LocalityCode']].value_counts()"
   ]
  },
  {
   "cell_type": "code",
   "execution_count": 8,
   "id": "f7dfea58",
   "metadata": {},
   "outputs": [
    {
     "data": {
      "text/plain": [
       "961    55\n",
       "960    51\n",
       "962    51\n",
       "970    46\n",
       "963    43\n",
       "969    40\n",
       "964    39\n",
       "959    15\n",
       "965    15\n",
       "973    11\n",
       "971    10\n",
       "399     1\n",
       "972     1\n",
       "dtype: int64"
      ]
     },
     "execution_count": 8,
     "metadata": {},
     "output_type": "execute_result"
    }
   ],
   "source": [
    "# Create array of unique zip codes, converted to five character str\n",
    "zips = pd.DataFrame(df['Zipcode'].value_counts().keys().astype('int').astype('str').tolist())\n",
    "# Subsect zip codes to first three digits\n",
    "zips[0] = zips[0].str[:3]\n",
    "# Show unique first-three-digits\n",
    "zips.value_counts()"
   ]
  },
  {
   "cell_type": "markdown",
   "id": "648ba4a6",
   "metadata": {},
   "source": [
    "- 961: Reno, NV (West)\n",
    "- 960: Redding, CA\n",
    "- 962: Armed Forces - Korea\n",
    "- 970: Portland, OR (Vicinity)\n",
    "- 963: Armed Forces - Japan\n",
    "- 969: Barrigda, Guam\n",
    "- 964: Armed Forces - Phillipines\n",
    "- 959: Marysville, CA\n",
    "- 965: Armed Forces - Pacific\n",
    "- 973: Salem, OR\n",
    "- 971: Portland, OR (West)\n",
    "- 399: Atlanta, GA (IRS)\n",
    "- 972: Portland, OR (Main)"
   ]
  },
  {
   "cell_type": "markdown",
   "id": "7cdaf9b4",
   "metadata": {},
   "source": [
    "* Notebook: Calculate tax rate using property value and tax amount"
   ]
  },
  {
   "cell_type": "markdown",
   "id": "4c9787ba",
   "metadata": {},
   "source": [
    "* Notebook: Distibution x-axis: tax_rate, y-axis: value_count, hue/color: locality\n",
    "    * **Deliverable**: This distribution"
   ]
  },
  {
   "cell_type": "markdown",
   "id": "53bfbc0d",
   "metadata": {},
   "source": [
    "* **Present**: \n",
    "    * All localities for dataset's residences\n",
    "    * Each locality's tax rate range\n",
    "    * Each peak in the tax rate distributions"
   ]
  },
  {
   "cell_type": "markdown",
   "id": "cd4724e8",
   "metadata": {},
   "source": [
    "# #3. Conduct hypothesis testing and check univariate distributions"
   ]
  },
  {
   "cell_type": "markdown",
   "id": "17c9a570",
   "metadata": {},
   "source": [
    "* Notebook: Initial exploration\n",
    "    * Use square-footage, bedroom-count, bathroom-count, and tax-value for initial exploration\n",
    "    * *After MVP*: Run initial exploration on new features"
   ]
  },
  {
   "cell_type": "markdown",
   "id": "6e54b36e",
   "metadata": {},
   "source": [
    "* Notebook: Hypothesis testing\n",
    "    * Create initial hypotheses for MVP features, push to readme\n",
    "    * Run statistical tests\n",
    "        * At least two statistical tests along with visualizations documenting hypotheses and takeaways\n",
    "    * Convey results to readme and Jupyter notebook\n",
    "    * *After MVP*: Create hypotheses for new features \n",
    "    * *After MVP*: Push new features through hypothesis testing to check viability\n",
    "    * *After MVP*: Convey results to readme and Jupyter notebook"
   ]
  },
  {
   "cell_type": "markdown",
   "id": "bff5e78b",
   "metadata": {},
   "source": [
    "* **PREP.py**: \n",
    "    * Add initial-plots function to loop through and plot features\n",
    "* **Present**: \n",
    "    * First four distributions\n",
    "    * *After MVP*: Any additional distributions included/excluded\n",
    "    * Initial hypotheses\n",
    "    * Statistical tests\n",
    "    * Results"
   ]
  },
  {
   "cell_type": "markdown",
   "id": "bcbfb393",
   "metadata": {},
   "source": [
    "# #4. Prepare using Minimum-Viable-Product (MVP) specification restriction"
   ]
  },
  {
   "cell_type": "markdown",
   "id": "a8d0b0e5",
   "metadata": {},
   "source": [
    "* Notebook: Drop all columns except square-footage, bedroom-count, bathroom-count, tax-value\n",
    "* Notebook: Drop all nulls in above columns\n",
    "* Notebook: Check for outliers using box-and-whisker plot\n",
    "* Notebook: Eliminate outliers if needed using Inter-Quartile Rule\n",
    "* Notebook: Rename columns to something more readable\n",
    "* Notebook: Split data into train, validate, and test\n",
    "* Notebook: Isolate target variable 'tax-value' into y_train from X_train\n",
    "    * Do the same for X_validate and X_test\n",
    "* Notebook: Scale data\n",
    "    * Create and fit scaler using X_train\n",
    "    * Create X_train_exp using scaler transform of X_train while retaining original values\n",
    "    * Scale X_train, drop unscaled columns\n",
    "    * Scale X_validate, drop unscaled columns\n",
    "    * Scale X_test, drop unscaled columns\n",
    "* *After MVP*: Run through above steps as needed with any additional features\n",
    "* **PREP.py**: \n",
    "    * Add plot-data dunction to make various plots for a dataframe when called\n",
    "    * Add clean-data function to limit dataset features, drop nulls, eliminate outliers, rename columns\n",
    "        * *After MPV*: Revise clean-data with new features\n",
    "    * Add split-data function for train/validate/test *and* target isolation\n",
    "    * Add scale-data function\n",
    "    * Add wrangle-data function to run acquire-store, clean-data, split-data, and scale-data functions, then return all dataframes\n",
    "* **Present**:\n",
    "    * Overview of wrangling, mentioning feature limitation to MVP, additional features, nulls, outliers, feature renaming, split, target isolation, scaler creation, scaler application, returned dataframes"
   ]
  },
  {
   "cell_type": "markdown",
   "id": "903b5d5f",
   "metadata": {},
   "source": [
    "# #5. Create models for MVP restriction"
   ]
  },
  {
   "cell_type": "markdown",
   "id": "d481a4c2",
   "metadata": {},
   "source": [
    "* Notebook: Cast y_train and y_validate as dataframes\n",
    "* Notebook: Create model-performance function\n",
    "    * Takes in actuals_series, predictions_series, 'model_name', df_to_append_to\n",
    "    * Calculates RMSE\n",
    "    * Calculates r^2 score\n",
    "    * Appends dataframe with new row for model_name, RMSE_validate, r^2_score\n",
    "    * Returns dataframe\n",
    "* Notebook: Create plot-residuals function\n",
    "* Notebook: Create baseline model\n",
    "    * Calculate mean and median of target (tax-value)\n",
    "    * Assign mean and median to columns in y_train and y_validate\n",
    "    * Calculate RMSE for both train and validate\n",
    "        * mean_squared_error(actuals, baseline) ** 0.5\n",
    "    * Keep the lower-error baseline (of mean and median)\n",
    "    * Call plot-residuals\n",
    "* Notebook: Create models for different regression algorithms\n",
    "    * Loop through one algorithm's hyperparameters, save to list\n",
    "    * Loop through next algorithm, and next... using same\n",
    "* Notebook: Loop lists of models through model-performance function\n",
    "    * Extend the 'model_name' to include hyperparameter\n",
    "    * Add to same dataframe for easy column-wise analysis\n",
    "    * Call plot-residuals\n",
    "* Notebook: \"Choose\" best-performing model\n",
    "    * Plot y by yhat\n",
    "* *After MVP*: Add features, use k-best or RFE to determine which features to include\n",
    "* *After MVP*: Loop model-performance using new feature set and suitable names\n",
    "* *After MVP*: \"Choose\" best-performing model\n",
    "* **Present**: \n",
    "    * model-performance function\n",
    "    * baseline performance\n",
    "    * MVP model performance\n",
    "    * After-MVP model performance\n",
    "    * model selected"
   ]
  },
  {
   "cell_type": "markdown",
   "id": "ec9a0019",
   "metadata": {},
   "source": [
    "# #6. Revisit Step #3, #4, and #5 with more features than the MVP restriction"
   ]
  },
  {
   "cell_type": "markdown",
   "id": "6de68ff3",
   "metadata": {},
   "source": [
    "* Complete these steps:\n",
    "    * Run at least 1 t-test and 1 correlation test (but as many as you need!)\n",
    "    * Visualize all combinations of variables in some way(s).\n",
    "    * What independent variables are correlated with the dependent?\n",
    "    * Which independent variables are correlated with other independent variables?\n",
    "* Run all *After MVP* steps"
   ]
  },
  {
   "cell_type": "markdown",
   "id": "87a375e1",
   "metadata": {},
   "source": [
    "# #7. Push work and findings to a slide deck\n",
    "- Practice/script the presentation\n",
    "- Present!\n",
    "\n",
    "# Notes to self\n",
    "- \"You will want to make sure you are using the best fields to represent square feet of home, number of bedrooms, and number of bathrooms. \"Best\" meaning the most accurate and available information. Here you will need to do some data investigation in the database and use your domain expertise to make some judgement calls.\"\n",
    "- \"Brainstorming ideas and form hypotheses related to how variables might impact or relate to each other, both within independent variables and between the independent variables and dependent variable.\"\n",
    "- \"Document any ideas for new features you may have while first looking at the existing variables and the project goals ahead of you.\"\n",
    "- \"Add a data dictionary in your notebook at this point that defines all the fields used in your model and your analysis and answers the question, \"Why did you use the fields you used?\". e.g. \"Why did you use bedroom_field1 over bedroom_field2?\", not, \"Why did you use number of bedrooms?\"\""
   ]
  },
  {
   "cell_type": "code",
   "execution_count": null,
   "id": "24499f79",
   "metadata": {},
   "outputs": [],
   "source": []
  }
 ],
 "metadata": {
  "kernelspec": {
   "display_name": "Python 3 (ipykernel)",
   "language": "python",
   "name": "python3"
  },
  "language_info": {
   "codemirror_mode": {
    "name": "ipython",
    "version": 3
   },
   "file_extension": ".py",
   "mimetype": "text/x-python",
   "name": "python",
   "nbconvert_exporter": "python",
   "pygments_lexer": "ipython3",
   "version": "3.8.8"
  }
 },
 "nbformat": 4,
 "nbformat_minor": 5
}
